{
 "cells": [
  {
   "cell_type": "code",
   "execution_count": 1,
   "id": "2a2ef87d-bafb-4da6-b9c0-ceff82c419fd",
   "metadata": {},
   "outputs": [],
   "source": [
    "import sklearn as sklearn\n",
    "import pandas as pd\n",
    "import numpy as np\n",
    "from time import time\n",
    "import seaborn as sns"
   ]
  },
  {
   "cell_type": "code",
   "execution_count": 2,
   "id": "6f22a6ed-2095-46dc-8cf8-84c899167047",
   "metadata": {},
   "outputs": [
    {
     "name": "stdout",
     "output_type": "stream",
     "text": [
      "Collecting jupyterlab_github\n",
      "  Downloading jupyterlab_github-3.0.1-py3-none-any.whl (113 kB)\n",
      "Requirement already satisfied: jupyterlab~=3.0 in c:\\users\\hosseind\\anaconda3\\lib\\site-packages (from jupyterlab_github) (3.0.14)\n",
      "Requirement already satisfied: ipython in c:\\users\\hosseind\\anaconda3\\lib\\site-packages (from jupyterlab~=3.0->jupyterlab_github) (7.22.0)\n",
      "Requirement already satisfied: jupyter-core in c:\\users\\hosseind\\anaconda3\\lib\\site-packages (from jupyterlab~=3.0->jupyterlab_github) (4.7.1)\n",
      "Requirement already satisfied: jupyter-packaging~=0.7 in c:\\users\\hosseind\\anaconda3\\lib\\site-packages (from jupyterlab~=3.0->jupyterlab_github) (0.7.12)\n",
      "Requirement already satisfied: jinja2>=2.10 in c:\\users\\hosseind\\anaconda3\\lib\\site-packages (from jupyterlab~=3.0->jupyterlab_github) (2.11.3)\n",
      "Requirement already satisfied: nbclassic~=0.2 in c:\\users\\hosseind\\anaconda3\\lib\\site-packages (from jupyterlab~=3.0->jupyterlab_github) (0.2.6)\n",
      "Requirement already satisfied: jupyterlab-server~=2.3 in c:\\users\\hosseind\\anaconda3\\lib\\site-packages (from jupyterlab~=3.0->jupyterlab_github) (2.4.0)\n",
      "Requirement already satisfied: packaging in c:\\users\\hosseind\\anaconda3\\lib\\site-packages (from jupyterlab~=3.0->jupyterlab_github) (20.9)\n",
      "Requirement already satisfied: tornado>=6.1.0 in c:\\users\\hosseind\\anaconda3\\lib\\site-packages (from jupyterlab~=3.0->jupyterlab_github) (6.1)\n",
      "Requirement already satisfied: jupyter-server~=1.4 in c:\\users\\hosseind\\anaconda3\\lib\\site-packages (from jupyterlab~=3.0->jupyterlab_github) (1.4.1)\n",
      "Requirement already satisfied: MarkupSafe>=0.23 in c:\\users\\hosseind\\anaconda3\\lib\\site-packages (from jinja2>=2.10->jupyterlab~=3.0->jupyterlab_github) (1.1.1)\n",
      "Requirement already satisfied: nbformat in c:\\users\\hosseind\\anaconda3\\lib\\site-packages (from jupyter-server~=1.4->jupyterlab~=3.0->jupyterlab_github) (5.1.3)\n",
      "Requirement already satisfied: prometheus-client in c:\\users\\hosseind\\anaconda3\\lib\\site-packages (from jupyter-server~=1.4->jupyterlab~=3.0->jupyterlab_github) (0.10.1)\n",
      "Requirement already satisfied: Send2Trash in c:\\users\\hosseind\\anaconda3\\lib\\site-packages (from jupyter-server~=1.4->jupyterlab~=3.0->jupyterlab_github) (1.5.0)\n",
      "Requirement already satisfied: traitlets>=4.2.1 in c:\\users\\hosseind\\anaconda3\\lib\\site-packages (from jupyter-server~=1.4->jupyterlab~=3.0->jupyterlab_github) (5.0.5)\n",
      "Requirement already satisfied: pyzmq>=17 in c:\\users\\hosseind\\anaconda3\\lib\\site-packages (from jupyter-server~=1.4->jupyterlab~=3.0->jupyterlab_github) (20.0.0)\n",
      "Requirement already satisfied: ipython-genutils in c:\\users\\hosseind\\anaconda3\\lib\\site-packages (from jupyter-server~=1.4->jupyterlab~=3.0->jupyterlab_github) (0.2.0)\n",
      "Requirement already satisfied: nbconvert in c:\\users\\hosseind\\anaconda3\\lib\\site-packages (from jupyter-server~=1.4->jupyterlab~=3.0->jupyterlab_github) (6.0.7)\n",
      "Requirement already satisfied: jupyter-client>=6.1.1 in c:\\users\\hosseind\\anaconda3\\lib\\site-packages (from jupyter-server~=1.4->jupyterlab~=3.0->jupyterlab_github) (6.1.12)\n",
      "Requirement already satisfied: terminado>=0.8.3 in c:\\users\\hosseind\\anaconda3\\lib\\site-packages (from jupyter-server~=1.4->jupyterlab~=3.0->jupyterlab_github) (0.9.4)\n",
      "Requirement already satisfied: anyio>=2.0.2 in c:\\users\\hosseind\\anaconda3\\lib\\site-packages (from jupyter-server~=1.4->jupyterlab~=3.0->jupyterlab_github) (2.2.0)\n",
      "Requirement already satisfied: pywin32>=1.0 in c:\\users\\hosseind\\anaconda3\\lib\\site-packages (from jupyter-server~=1.4->jupyterlab~=3.0->jupyterlab_github) (227)\n",
      "Requirement already satisfied: sniffio>=1.1 in c:\\users\\hosseind\\anaconda3\\lib\\site-packages (from anyio>=2.0.2->jupyter-server~=1.4->jupyterlab~=3.0->jupyterlab_github) (1.2.0)\n",
      "Requirement already satisfied: idna>=2.8 in c:\\users\\hosseind\\anaconda3\\lib\\site-packages (from anyio>=2.0.2->jupyter-server~=1.4->jupyterlab~=3.0->jupyterlab_github) (2.10)\n",
      "Requirement already satisfied: python-dateutil>=2.1 in c:\\users\\hosseind\\anaconda3\\lib\\site-packages (from jupyter-client>=6.1.1->jupyter-server~=1.4->jupyterlab~=3.0->jupyterlab_github) (2.8.1)\n",
      "Requirement already satisfied: json5 in c:\\users\\hosseind\\anaconda3\\lib\\site-packages (from jupyterlab-server~=2.3->jupyterlab~=3.0->jupyterlab_github) (0.9.5)\n",
      "Requirement already satisfied: babel in c:\\users\\hosseind\\anaconda3\\lib\\site-packages (from jupyterlab-server~=2.3->jupyterlab~=3.0->jupyterlab_github) (2.9.0)\n",
      "Requirement already satisfied: jsonschema>=3.0.1 in c:\\users\\hosseind\\anaconda3\\lib\\site-packages (from jupyterlab-server~=2.3->jupyterlab~=3.0->jupyterlab_github) (3.2.0)\n",
      "Requirement already satisfied: requests in c:\\users\\hosseind\\anaconda3\\lib\\site-packages (from jupyterlab-server~=2.3->jupyterlab~=3.0->jupyterlab_github) (2.25.1)\n",
      "Requirement already satisfied: attrs>=17.4.0 in c:\\users\\hosseind\\anaconda3\\lib\\site-packages (from jsonschema>=3.0.1->jupyterlab-server~=2.3->jupyterlab~=3.0->jupyterlab_github) (20.3.0)\n",
      "Requirement already satisfied: pyrsistent>=0.14.0 in c:\\users\\hosseind\\anaconda3\\lib\\site-packages (from jsonschema>=3.0.1->jupyterlab-server~=2.3->jupyterlab~=3.0->jupyterlab_github) (0.17.3)\n",
      "Requirement already satisfied: setuptools in c:\\users\\hosseind\\anaconda3\\lib\\site-packages (from jsonschema>=3.0.1->jupyterlab-server~=2.3->jupyterlab~=3.0->jupyterlab_github) (52.0.0.post20210125)\n",
      "Requirement already satisfied: six>=1.11.0 in c:\\users\\hosseind\\anaconda3\\lib\\site-packages (from jsonschema>=3.0.1->jupyterlab-server~=2.3->jupyterlab~=3.0->jupyterlab_github) (1.15.0)\n",
      "Requirement already satisfied: notebook<7 in c:\\users\\hosseind\\anaconda3\\lib\\site-packages (from nbclassic~=0.2->jupyterlab~=3.0->jupyterlab_github) (6.3.0)\n",
      "Requirement already satisfied: argon2-cffi in c:\\users\\hosseind\\anaconda3\\lib\\site-packages (from notebook<7->nbclassic~=0.2->jupyterlab~=3.0->jupyterlab_github) (20.1.0)\n",
      "Requirement already satisfied: ipykernel in c:\\users\\hosseind\\anaconda3\\lib\\site-packages (from notebook<7->nbclassic~=0.2->jupyterlab~=3.0->jupyterlab_github) (5.3.4)\n",
      "Requirement already satisfied: pywinpty>=0.5 in c:\\users\\hosseind\\anaconda3\\lib\\site-packages (from terminado>=0.8.3->jupyter-server~=1.4->jupyterlab~=3.0->jupyterlab_github) (0.5.7)\n",
      "Requirement already satisfied: cffi>=1.0.0 in c:\\users\\hosseind\\anaconda3\\lib\\site-packages (from argon2-cffi->notebook<7->nbclassic~=0.2->jupyterlab~=3.0->jupyterlab_github) (1.14.5)\n",
      "Requirement already satisfied: pycparser in c:\\users\\hosseind\\anaconda3\\lib\\site-packages (from cffi>=1.0.0->argon2-cffi->notebook<7->nbclassic~=0.2->jupyterlab~=3.0->jupyterlab_github) (2.20)\n",
      "Requirement already satisfied: pytz>=2015.7 in c:\\users\\hosseind\\anaconda3\\lib\\site-packages (from babel->jupyterlab-server~=2.3->jupyterlab~=3.0->jupyterlab_github) (2021.1)\n",
      "Requirement already satisfied: pygments in c:\\users\\hosseind\\anaconda3\\lib\\site-packages (from ipython->jupyterlab~=3.0->jupyterlab_github) (2.8.1)\n",
      "Requirement already satisfied: prompt-toolkit!=3.0.0,!=3.0.1,<3.1.0,>=2.0.0 in c:\\users\\hosseind\\anaconda3\\lib\\site-packages (from ipython->jupyterlab~=3.0->jupyterlab_github) (3.0.17)\n",
      "Requirement already satisfied: pickleshare in c:\\users\\hosseind\\anaconda3\\lib\\site-packages (from ipython->jupyterlab~=3.0->jupyterlab_github) (0.7.5)\n",
      "Requirement already satisfied: jedi>=0.16 in c:\\users\\hosseind\\anaconda3\\lib\\site-packages (from ipython->jupyterlab~=3.0->jupyterlab_github) (0.17.2)\n",
      "Requirement already satisfied: colorama in c:\\users\\hosseind\\anaconda3\\lib\\site-packages (from ipython->jupyterlab~=3.0->jupyterlab_github) (0.4.4)\n",
      "Requirement already satisfied: decorator in c:\\users\\hosseind\\anaconda3\\lib\\site-packages (from ipython->jupyterlab~=3.0->jupyterlab_github) (5.0.6)\n",
      "Requirement already satisfied: backcall in c:\\users\\hosseind\\anaconda3\\lib\\site-packages (from ipython->jupyterlab~=3.0->jupyterlab_github) (0.2.0)\n",
      "Requirement already satisfied: parso<0.8.0,>=0.7.0 in c:\\users\\hosseind\\anaconda3\\lib\\site-packages (from jedi>=0.16->ipython->jupyterlab~=3.0->jupyterlab_github) (0.7.0)\n",
      "Requirement already satisfied: wcwidth in c:\\users\\hosseind\\anaconda3\\lib\\site-packages (from prompt-toolkit!=3.0.0,!=3.0.1,<3.1.0,>=2.0.0->ipython->jupyterlab~=3.0->jupyterlab_github) (0.2.5)\n",
      "Requirement already satisfied: bleach in c:\\users\\hosseind\\anaconda3\\lib\\site-packages (from nbconvert->jupyter-server~=1.4->jupyterlab~=3.0->jupyterlab_github) (3.3.0)\n",
      "Requirement already satisfied: testpath in c:\\users\\hosseind\\anaconda3\\lib\\site-packages (from nbconvert->jupyter-server~=1.4->jupyterlab~=3.0->jupyterlab_github) (0.4.4)\n",
      "Requirement already satisfied: nbclient<0.6.0,>=0.5.0 in c:\\users\\hosseind\\anaconda3\\lib\\site-packages (from nbconvert->jupyter-server~=1.4->jupyterlab~=3.0->jupyterlab_github) (0.5.3)\n",
      "Requirement already satisfied: mistune<2,>=0.8.1 in c:\\users\\hosseind\\anaconda3\\lib\\site-packages (from nbconvert->jupyter-server~=1.4->jupyterlab~=3.0->jupyterlab_github) (0.8.4)\n",
      "Requirement already satisfied: pandocfilters>=1.4.1 in c:\\users\\hosseind\\anaconda3\\lib\\site-packages (from nbconvert->jupyter-server~=1.4->jupyterlab~=3.0->jupyterlab_github) (1.4.3)\n",
      "Requirement already satisfied: jupyterlab-pygments in c:\\users\\hosseind\\anaconda3\\lib\\site-packages (from nbconvert->jupyter-server~=1.4->jupyterlab~=3.0->jupyterlab_github) (0.1.2)\n",
      "Requirement already satisfied: entrypoints>=0.2.2 in c:\\users\\hosseind\\anaconda3\\lib\\site-packages (from nbconvert->jupyter-server~=1.4->jupyterlab~=3.0->jupyterlab_github) (0.3)\n",
      "Requirement already satisfied: defusedxml in c:\\users\\hosseind\\anaconda3\\lib\\site-packages (from nbconvert->jupyter-server~=1.4->jupyterlab~=3.0->jupyterlab_github) (0.7.1)\n",
      "Requirement already satisfied: async-generator in c:\\users\\hosseind\\anaconda3\\lib\\site-packages (from nbclient<0.6.0,>=0.5.0->nbconvert->jupyter-server~=1.4->jupyterlab~=3.0->jupyterlab_github) (1.10)\n",
      "Requirement already satisfied: nest-asyncio in c:\\users\\hosseind\\anaconda3\\lib\\site-packages (from nbclient<0.6.0,>=0.5.0->nbconvert->jupyter-server~=1.4->jupyterlab~=3.0->jupyterlab_github) (1.5.1)\n",
      "Requirement already satisfied: webencodings in c:\\users\\hosseind\\anaconda3\\lib\\site-packages (from bleach->nbconvert->jupyter-server~=1.4->jupyterlab~=3.0->jupyterlab_github) (0.5.1)\n",
      "Requirement already satisfied: pyparsing>=2.0.2 in c:\\users\\hosseind\\anaconda3\\lib\\site-packages (from packaging->jupyterlab~=3.0->jupyterlab_github) (2.4.7)\n",
      "Requirement already satisfied: certifi>=2017.4.17 in c:\\users\\hosseind\\anaconda3\\lib\\site-packages (from requests->jupyterlab-server~=2.3->jupyterlab~=3.0->jupyterlab_github) (2020.12.5)\n",
      "Requirement already satisfied: urllib3<1.27,>=1.21.1 in c:\\users\\hosseind\\anaconda3\\lib\\site-packages (from requests->jupyterlab-server~=2.3->jupyterlab~=3.0->jupyterlab_github) (1.26.4)\n",
      "Requirement already satisfied: chardet<5,>=3.0.2 in c:\\users\\hosseind\\anaconda3\\lib\\site-packages (from requests->jupyterlab-server~=2.3->jupyterlab~=3.0->jupyterlab_github) (4.0.0)\n",
      "Installing collected packages: jupyterlab-github\n",
      "Successfully installed jupyterlab-github-3.0.1\n",
      "Note: you may need to restart the kernel to use updated packages.\n"
     ]
    }
   ],
   "source": [
    "pip install jupyterlab_github"
   ]
  },
  {
   "cell_type": "code",
   "execution_count": null,
   "id": "403933e3-2ffa-421a-8d42-4d81f12991dc",
   "metadata": {},
   "outputs": [],
   "source": []
  }
 ],
 "metadata": {
  "kernelspec": {
   "display_name": "Python 3",
   "language": "python",
   "name": "python3"
  },
  "language_info": {
   "codemirror_mode": {
    "name": "ipython",
    "version": 3
   },
   "file_extension": ".py",
   "mimetype": "text/x-python",
   "name": "python",
   "nbconvert_exporter": "python",
   "pygments_lexer": "ipython3",
   "version": "3.8.8"
  }
 },
 "nbformat": 4,
 "nbformat_minor": 5
}
