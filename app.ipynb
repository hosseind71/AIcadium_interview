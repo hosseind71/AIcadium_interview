{
 "cells": [
  {
   "cell_type": "code",
   "execution_count": 1,
   "id": "f95b28fa-385f-435f-8cee-5914dd1ecf5b",
   "metadata": {},
   "outputs": [
    {
     "name": "stdout",
     "output_type": "stream",
     "text": [
      " * Serving Flask app \"__main__\" (lazy loading)\n",
      " * Environment: production\n",
      "   WARNING: This is a development server. Do not use it in a production deployment.\n",
      "   Use a production WSGI server instead.\n",
      " * Debug mode: off\n"
     ]
    },
    {
     "name": "stderr",
     "output_type": "stream",
     "text": [
      " * Running on http://127.0.0.1:8030/ (Press CTRL+C to quit)\n",
      "127.0.0.1 - - [31/Jan/2022 01:13:05] \"\u001b[37mPOST /predict HTTP/1.1\u001b[0m\" 200 -\n",
      "127.0.0.1 - - [31/Jan/2022 01:13:06] \"\u001b[37mPOST /predict HTTP/1.1\u001b[0m\" 200 -\n"
     ]
    }
   ],
   "source": [
    "# here the trained model will be deployed using flask library\n",
    "\n",
    "from flask import Flask\n",
    "from flask import jsonify\n",
    "import requests\n",
    "from flask import request\n",
    "import joblib\n",
    "import pandas as pd\n",
    "\n",
    "app = Flask(__name__)\n",
    "\n",
    "\n",
    "@app.route('/predict', methods=['POST'])\n",
    "#@app.route('/predict')\n",
    "def predict():\n",
    "     data=request.json\n",
    "     data = pd.DataFrame([data])\n",
    "     x_input=process(data)\n",
    "     classifier = joblib.load('classifier.pkl')\n",
    "    \n",
    "\n",
    "     prediction = classifier.predict(x_input)\n",
    "     if prediction==1:\n",
    "        return jsonify({'prediction': 'Customer WILL buy the product'})\n",
    "     else:\n",
    "            return jsonify({'prediction': 'Customer WILL NOT buy the product'})\n",
    "\n",
    "\n",
    "\n",
    "def process(input_data):\n",
    "    import sklearn\n",
    "    from sklearn.compose import ColumnTransformer\n",
    "    from sklearn.preprocessing import OneHotEncoder\n",
    "    from sklearn.preprocessing import PowerTransformer\n",
    "    from sklearn.preprocessing import MinMaxScaler\n",
    "    \n",
    "    cat_col=['Month','OperatingSystems','Browser','Region','TrafficType','VisitorType']\n",
    "    num_col=input_data.columns[0:10]\n",
    "    input_data[['Weekend']]=input_data[['Weekend']].astype('int64')\n",
    "    input_data[cat_col]=input_data[cat_col].astype(\"category\")\n",
    "    \n",
    "    preproceesing = joblib.load('preprocessing.pkl')\n",
    "    x=pd.DataFrame(preproceesing.transform(input_data))\n",
    "    \n",
    "    x.columns=['Administrative', 'Administrative_Duration', 'Informational','Informational_Duration', 'ProductRelated', 'ProductRelated_Duration',\n",
    "       'BounceRates', 'ExitRates', 'PageValues', 'Month_Aug',\n",
    "       'Month_Dec', 'Month_Feb', 'Month_Jul', 'Month_June', 'Month_Mar',\n",
    "       'Month_May', 'Month_Nov', 'Month_Oct', 'Month_Sep',\n",
    "       'OperatingSystems_1', 'OperatingSystems_2', 'OperatingSystems_3',\n",
    "       'OperatingSystems_4', 'OperatingSystems_5', 'OperatingSystems_6',\n",
    "       'OperatingSystems_7', 'OperatingSystems_8', 'Browser_1', 'Browser_2',\n",
    "       'Browser_3', 'Browser_4', 'Browser_5', 'Browser_6', 'Browser_7',\n",
    "       'Browser_8', 'Browser_9', 'Browser_10', 'Browser_11', 'Browser_12',\n",
    "       'Browser_13', 'Region_1', 'Region_2', 'Region_3', 'Region_4',\n",
    "       'Region_5', 'Region_6', 'Region_7', 'Region_8', 'Region_9',\n",
    "       'TrafficType_1', 'TrafficType_2', 'TrafficType_3', 'TrafficType_4',\n",
    "       'TrafficType_5', 'TrafficType_6', 'TrafficType_7', 'TrafficType_8',\n",
    "       'TrafficType_9', 'TrafficType_10', 'TrafficType_11', 'TrafficType_12',\n",
    "       'TrafficType_13', 'TrafficType_14', 'TrafficType_15', 'TrafficType_16',\n",
    "       'TrafficType_17', 'TrafficType_18', 'TrafficType_19', 'TrafficType_20',\n",
    "       'VisitorType_New_Visitor', 'VisitorType_Other',\n",
    "       'VisitorType_Returning_Visitor', 'SpecialDay', 'Weekend']\n",
    "    \n",
    "    return x\n",
    "\n",
    "if __name__ == '__main__':\n",
    "     app.run(port=8030)\n",
    "        \n",
    "\n",
    "    \n",
    "    \n"
   ]
  },
  {
   "cell_type": "code",
   "execution_count": null,
   "id": "1bcdf596-992d-4a34-89c1-d957b1716eae",
   "metadata": {},
   "outputs": [],
   "source": []
  }
 ],
 "metadata": {
  "kernelspec": {
   "display_name": "Python 3",
   "language": "python",
   "name": "python3"
  },
  "language_info": {
   "codemirror_mode": {
    "name": "ipython",
    "version": 3
   },
   "file_extension": ".py",
   "mimetype": "text/x-python",
   "name": "python",
   "nbconvert_exporter": "python",
   "pygments_lexer": "ipython3",
   "version": "3.8.8"
  }
 },
 "nbformat": 4,
 "nbformat_minor": 5
}
