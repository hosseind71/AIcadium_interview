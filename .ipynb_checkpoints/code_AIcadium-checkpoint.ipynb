{
 "cells": [
  {
   "cell_type": "code",
   "execution_count": null,
   "id": "03df1a2f-d1c0-4f99-8096-a880e246cf53",
   "metadata": {},
   "outputs": [],
   "source": [
    "#conda install -c conda-forge imbalanced-learn"
   ]
  },
  {
   "cell_type": "code",
   "execution_count": 22,
   "id": "34924fb8-6e88-4ff6-8546-85213502c362",
   "metadata": {},
   "outputs": [],
   "source": [
    "import sklearn as sklearn\n",
    "import pandas as pd\n",
    "import numpy as np\n",
    "from time import time\n",
    "import seaborn as sns\n",
    "import matplotlib.pyplot as plt"
   ]
  },
  {
   "cell_type": "code",
   "execution_count": 44,
   "id": "802e41f7-229a-47a2-809f-db5363207e5c",
   "metadata": {},
   "outputs": [],
   "source": [
    "from sklearn.ensemble import RandomForestClassifier\n",
    "from sklearn.metrics import confusion_matrix, ConfusionMatrixDisplay\n",
    "from sklearn.metrics import f1_score\n",
    "def defult_RandForest(xx_train,yy_train,xx_test,yy_test):\n",
    "\n",
    "    clf = RandomForestClassifier(max_depth=10, random_state=0)\n",
    "    clf.fit(xx_train, yy_train)\n",
    "\n",
    "    print('Train accuracy',clf.score(xx_train, yy_train))\n",
    "    print('Test accuracy',clf.score(xx_test, yy_test))\n",
    "    print('F1-scores for class 0 and 1 are: ',f1_score(yy_test, clf.predict(xx_test), average=None))\n",
    "    ConfusionMatrixDisplay.from_estimator(clf,xx_test,yy_test,normalize='true',cmap=plt.cm.Blues)\n",
    "\n",
    "    print('Confusion matrix: ',confusion_matrix(yy_test,clf.predict(xx_test)))"
   ]
  },
  {
   "cell_type": "code",
   "execution_count": 2,
   "id": "6f22a6ed-2095-46dc-8cf8-84c899167047",
   "metadata": {},
   "outputs": [
    {
     "name": "stdout",
     "output_type": "stream",
     "text": [
      "<class 'pandas.core.frame.DataFrame'>\n",
      "RangeIndex: 12330 entries, 0 to 12329\n",
      "Data columns (total 18 columns):\n",
      " #   Column                   Non-Null Count  Dtype  \n",
      "---  ------                   --------------  -----  \n",
      " 0   Administrative           12330 non-null  int64  \n",
      " 1   Administrative_Duration  12330 non-null  float64\n",
      " 2   Informational            12330 non-null  int64  \n",
      " 3   Informational_Duration   12330 non-null  float64\n",
      " 4   ProductRelated           12330 non-null  int64  \n",
      " 5   ProductRelated_Duration  12330 non-null  float64\n",
      " 6   BounceRates              12330 non-null  float64\n",
      " 7   ExitRates                12330 non-null  float64\n",
      " 8   PageValues               12330 non-null  float64\n",
      " 9   SpecialDay               12330 non-null  float64\n",
      " 10  Month                    12330 non-null  object \n",
      " 11  OperatingSystems         12330 non-null  int64  \n",
      " 12  Browser                  12330 non-null  int64  \n",
      " 13  Region                   12330 non-null  int64  \n",
      " 14  TrafficType              12330 non-null  int64  \n",
      " 15  VisitorType              12330 non-null  object \n",
      " 16  Weekend                  12330 non-null  bool   \n",
      " 17  Revenue                  12330 non-null  bool   \n",
      "dtypes: bool(2), float64(7), int64(7), object(2)\n",
      "memory usage: 1.5+ MB\n"
     ]
    }
   ],
   "source": [
    "#reading csv file as pandas dataframe\n",
    "input_data=pd.read_csv('coding_round_data.csv')\n",
    "input_data.info()"
   ]
  },
  {
   "cell_type": "code",
   "execution_count": 3,
   "id": "9611de3a-12b3-4e22-ad75-e92653c16f1e",
   "metadata": {},
   "outputs": [
    {
     "data": {
      "text/html": [
       "<div>\n",
       "<style scoped>\n",
       "    .dataframe tbody tr th:only-of-type {\n",
       "        vertical-align: middle;\n",
       "    }\n",
       "\n",
       "    .dataframe tbody tr th {\n",
       "        vertical-align: top;\n",
       "    }\n",
       "\n",
       "    .dataframe thead th {\n",
       "        text-align: right;\n",
       "    }\n",
       "</style>\n",
       "<table border=\"1\" class=\"dataframe\">\n",
       "  <thead>\n",
       "    <tr style=\"text-align: right;\">\n",
       "      <th></th>\n",
       "      <th>Administrative</th>\n",
       "      <th>Administrative_Duration</th>\n",
       "      <th>Informational</th>\n",
       "      <th>Informational_Duration</th>\n",
       "      <th>ProductRelated</th>\n",
       "      <th>ProductRelated_Duration</th>\n",
       "      <th>BounceRates</th>\n",
       "      <th>ExitRates</th>\n",
       "      <th>PageValues</th>\n",
       "      <th>SpecialDay</th>\n",
       "      <th>OperatingSystems</th>\n",
       "      <th>Browser</th>\n",
       "      <th>Region</th>\n",
       "      <th>TrafficType</th>\n",
       "    </tr>\n",
       "  </thead>\n",
       "  <tbody>\n",
       "    <tr>\n",
       "      <th>count</th>\n",
       "      <td>12330.000000</td>\n",
       "      <td>12330.000000</td>\n",
       "      <td>12330.000000</td>\n",
       "      <td>12330.000000</td>\n",
       "      <td>12330.000000</td>\n",
       "      <td>12330.000000</td>\n",
       "      <td>12330.000000</td>\n",
       "      <td>12330.000000</td>\n",
       "      <td>12330.000000</td>\n",
       "      <td>12330.000000</td>\n",
       "      <td>12330.000000</td>\n",
       "      <td>12330.000000</td>\n",
       "      <td>12330.000000</td>\n",
       "      <td>12330.000000</td>\n",
       "    </tr>\n",
       "    <tr>\n",
       "      <th>mean</th>\n",
       "      <td>2.315166</td>\n",
       "      <td>80.818611</td>\n",
       "      <td>0.503569</td>\n",
       "      <td>34.472398</td>\n",
       "      <td>31.731468</td>\n",
       "      <td>1194.746220</td>\n",
       "      <td>0.022191</td>\n",
       "      <td>0.043073</td>\n",
       "      <td>5.889258</td>\n",
       "      <td>0.061427</td>\n",
       "      <td>2.124006</td>\n",
       "      <td>2.357097</td>\n",
       "      <td>3.147364</td>\n",
       "      <td>4.069586</td>\n",
       "    </tr>\n",
       "    <tr>\n",
       "      <th>std</th>\n",
       "      <td>3.321784</td>\n",
       "      <td>176.779107</td>\n",
       "      <td>1.270156</td>\n",
       "      <td>140.749294</td>\n",
       "      <td>44.475503</td>\n",
       "      <td>1913.669288</td>\n",
       "      <td>0.048488</td>\n",
       "      <td>0.048597</td>\n",
       "      <td>18.568437</td>\n",
       "      <td>0.198917</td>\n",
       "      <td>0.911325</td>\n",
       "      <td>1.717277</td>\n",
       "      <td>2.401591</td>\n",
       "      <td>4.025169</td>\n",
       "    </tr>\n",
       "    <tr>\n",
       "      <th>min</th>\n",
       "      <td>0.000000</td>\n",
       "      <td>0.000000</td>\n",
       "      <td>0.000000</td>\n",
       "      <td>0.000000</td>\n",
       "      <td>0.000000</td>\n",
       "      <td>0.000000</td>\n",
       "      <td>0.000000</td>\n",
       "      <td>0.000000</td>\n",
       "      <td>0.000000</td>\n",
       "      <td>0.000000</td>\n",
       "      <td>1.000000</td>\n",
       "      <td>1.000000</td>\n",
       "      <td>1.000000</td>\n",
       "      <td>1.000000</td>\n",
       "    </tr>\n",
       "    <tr>\n",
       "      <th>25%</th>\n",
       "      <td>0.000000</td>\n",
       "      <td>0.000000</td>\n",
       "      <td>0.000000</td>\n",
       "      <td>0.000000</td>\n",
       "      <td>7.000000</td>\n",
       "      <td>184.137500</td>\n",
       "      <td>0.000000</td>\n",
       "      <td>0.014286</td>\n",
       "      <td>0.000000</td>\n",
       "      <td>0.000000</td>\n",
       "      <td>2.000000</td>\n",
       "      <td>2.000000</td>\n",
       "      <td>1.000000</td>\n",
       "      <td>2.000000</td>\n",
       "    </tr>\n",
       "    <tr>\n",
       "      <th>50%</th>\n",
       "      <td>1.000000</td>\n",
       "      <td>7.500000</td>\n",
       "      <td>0.000000</td>\n",
       "      <td>0.000000</td>\n",
       "      <td>18.000000</td>\n",
       "      <td>598.936905</td>\n",
       "      <td>0.003112</td>\n",
       "      <td>0.025156</td>\n",
       "      <td>0.000000</td>\n",
       "      <td>0.000000</td>\n",
       "      <td>2.000000</td>\n",
       "      <td>2.000000</td>\n",
       "      <td>3.000000</td>\n",
       "      <td>2.000000</td>\n",
       "    </tr>\n",
       "    <tr>\n",
       "      <th>75%</th>\n",
       "      <td>4.000000</td>\n",
       "      <td>93.256250</td>\n",
       "      <td>0.000000</td>\n",
       "      <td>0.000000</td>\n",
       "      <td>38.000000</td>\n",
       "      <td>1464.157214</td>\n",
       "      <td>0.016813</td>\n",
       "      <td>0.050000</td>\n",
       "      <td>0.000000</td>\n",
       "      <td>0.000000</td>\n",
       "      <td>3.000000</td>\n",
       "      <td>2.000000</td>\n",
       "      <td>4.000000</td>\n",
       "      <td>4.000000</td>\n",
       "    </tr>\n",
       "    <tr>\n",
       "      <th>max</th>\n",
       "      <td>27.000000</td>\n",
       "      <td>3398.750000</td>\n",
       "      <td>24.000000</td>\n",
       "      <td>2549.375000</td>\n",
       "      <td>705.000000</td>\n",
       "      <td>63973.522230</td>\n",
       "      <td>0.200000</td>\n",
       "      <td>0.200000</td>\n",
       "      <td>361.763742</td>\n",
       "      <td>1.000000</td>\n",
       "      <td>8.000000</td>\n",
       "      <td>13.000000</td>\n",
       "      <td>9.000000</td>\n",
       "      <td>20.000000</td>\n",
       "    </tr>\n",
       "  </tbody>\n",
       "</table>\n",
       "</div>"
      ],
      "text/plain": [
       "       Administrative  Administrative_Duration  Informational  \\\n",
       "count    12330.000000             12330.000000   12330.000000   \n",
       "mean         2.315166                80.818611       0.503569   \n",
       "std          3.321784               176.779107       1.270156   \n",
       "min          0.000000                 0.000000       0.000000   \n",
       "25%          0.000000                 0.000000       0.000000   \n",
       "50%          1.000000                 7.500000       0.000000   \n",
       "75%          4.000000                93.256250       0.000000   \n",
       "max         27.000000              3398.750000      24.000000   \n",
       "\n",
       "       Informational_Duration  ProductRelated  ProductRelated_Duration  \\\n",
       "count            12330.000000    12330.000000             12330.000000   \n",
       "mean                34.472398       31.731468              1194.746220   \n",
       "std                140.749294       44.475503              1913.669288   \n",
       "min                  0.000000        0.000000                 0.000000   \n",
       "25%                  0.000000        7.000000               184.137500   \n",
       "50%                  0.000000       18.000000               598.936905   \n",
       "75%                  0.000000       38.000000              1464.157214   \n",
       "max               2549.375000      705.000000             63973.522230   \n",
       "\n",
       "        BounceRates     ExitRates    PageValues    SpecialDay  \\\n",
       "count  12330.000000  12330.000000  12330.000000  12330.000000   \n",
       "mean       0.022191      0.043073      5.889258      0.061427   \n",
       "std        0.048488      0.048597     18.568437      0.198917   \n",
       "min        0.000000      0.000000      0.000000      0.000000   \n",
       "25%        0.000000      0.014286      0.000000      0.000000   \n",
       "50%        0.003112      0.025156      0.000000      0.000000   \n",
       "75%        0.016813      0.050000      0.000000      0.000000   \n",
       "max        0.200000      0.200000    361.763742      1.000000   \n",
       "\n",
       "       OperatingSystems       Browser        Region   TrafficType  \n",
       "count      12330.000000  12330.000000  12330.000000  12330.000000  \n",
       "mean           2.124006      2.357097      3.147364      4.069586  \n",
       "std            0.911325      1.717277      2.401591      4.025169  \n",
       "min            1.000000      1.000000      1.000000      1.000000  \n",
       "25%            2.000000      2.000000      1.000000      2.000000  \n",
       "50%            2.000000      2.000000      3.000000      2.000000  \n",
       "75%            3.000000      2.000000      4.000000      4.000000  \n",
       "max            8.000000     13.000000      9.000000     20.000000  "
      ]
     },
     "execution_count": 3,
     "metadata": {},
     "output_type": "execute_result"
    }
   ],
   "source": [
    "input_data.describe()"
   ]
  },
  {
   "cell_type": "code",
   "execution_count": 5,
   "id": "403933e3-2ffa-421a-8d42-4d81f12991dc",
   "metadata": {},
   "outputs": [
    {
     "name": "stdout",
     "output_type": "stream",
     "text": [
      "Administrative               27\n",
      "Administrative_Duration    3335\n",
      "Informational                17\n",
      "Informational_Duration     1258\n",
      "ProductRelated              311\n",
      "ProductRelated_Duration    9551\n",
      "BounceRates                1872\n",
      "ExitRates                  4777\n",
      "PageValues                 2704\n",
      "SpecialDay                    6\n",
      "Month                        10\n",
      "OperatingSystems              8\n",
      "Browser                      13\n",
      "Region                        9\n",
      "TrafficType                  20\n",
      "VisitorType                   3\n",
      "Weekend                       2\n",
      "Revenue                       2\n",
      "dtype: int64\n"
     ]
    }
   ],
   "source": [
    "#finding categorical columns, this has been done based on numer of uniqe values and also given explanations about each column\n",
    "print(input_data.nunique(axis=0))\n",
    "cat_col=['Month','OperatingSystems','Browser','Region','TrafficType','VisitorType']\n",
    "num_col=input_data.columns[0:10]\n",
    "input_data[['Weekend','Revenue']]=input_data[['Weekend','Revenue']].astype('int64')"
   ]
  },
  {
   "cell_type": "code",
   "execution_count": 6,
   "id": "ded30ddd-d5b7-4240-b9b1-bef2b6cd519a",
   "metadata": {},
   "outputs": [
    {
     "name": "stdout",
     "output_type": "stream",
     "text": [
      "<class 'pandas.core.frame.DataFrame'>\n",
      "RangeIndex: 12330 entries, 0 to 12329\n",
      "Data columns (total 18 columns):\n",
      " #   Column                   Non-Null Count  Dtype   \n",
      "---  ------                   --------------  -----   \n",
      " 0   Administrative           12330 non-null  int64   \n",
      " 1   Administrative_Duration  12330 non-null  float64 \n",
      " 2   Informational            12330 non-null  int64   \n",
      " 3   Informational_Duration   12330 non-null  float64 \n",
      " 4   ProductRelated           12330 non-null  int64   \n",
      " 5   ProductRelated_Duration  12330 non-null  float64 \n",
      " 6   BounceRates              12330 non-null  float64 \n",
      " 7   ExitRates                12330 non-null  float64 \n",
      " 8   PageValues               12330 non-null  float64 \n",
      " 9   SpecialDay               12330 non-null  float64 \n",
      " 10  Month                    12330 non-null  category\n",
      " 11  OperatingSystems         12330 non-null  category\n",
      " 12  Browser                  12330 non-null  category\n",
      " 13  Region                   12330 non-null  category\n",
      " 14  TrafficType              12330 non-null  category\n",
      " 15  VisitorType              12330 non-null  category\n",
      " 16  Weekend                  12330 non-null  int64   \n",
      " 17  Revenue                  12330 non-null  int64   \n",
      "dtypes: category(6), float64(7), int64(5)\n",
      "memory usage: 1.2 MB\n",
      "None\n"
     ]
    }
   ],
   "source": [
    "input_data[cat_col]=input_data[cat_col].astype(\"category\")\n",
    "print(input_data.info())\n",
    "col_hot_encoding=['Month','OperatingSystems','Browser','Region','TrafficType','VisitorType']"
   ]
  },
  {
   "cell_type": "code",
   "execution_count": 15,
   "id": "56b73311-d8d0-4d51-be6f-0dc02d4770bf",
   "metadata": {},
   "outputs": [
    {
     "name": "stderr",
     "output_type": "stream",
     "text": [
      "C:\\Users\\hosseind\\Anaconda3\\lib\\site-packages\\sklearn\\utils\\deprecation.py:87: FutureWarning: Function get_feature_names is deprecated; get_feature_names is deprecated in 1.0 and will be removed in 1.2. Please use get_feature_names_out instead.\n",
      "  warnings.warn(msg, category=FutureWarning)\n"
     ]
    }
   ],
   "source": [
    "from sklearn.preprocessing import OneHotEncoder\n",
    "en=OneHotEncoder(handle_unknown='ignore', sparse=False)\n",
    "x=en.fit_transform(input_data[col_hot_encoding])\n",
    "encoded_col=pd.DataFrame(x)\n",
    "encoded_col.columns=en.get_feature_names()\n",
    "input_ready=pd.concat([input_data[num_col], encoded_col,input_data[['Weekend','Revenue']]],axis=1)\n",
    "#input_ready.info()"
   ]
  },
  {
   "cell_type": "code",
   "execution_count": 18,
   "id": "91e3acf7-c625-4be1-8cce-d368a3e05751",
   "metadata": {},
   "outputs": [
    {
     "name": "stdout",
     "output_type": "stream",
     "text": [
      "no.  of train instances:  8220\n",
      "no.  of test instances:  4110\n"
     ]
    }
   ],
   "source": [
    "from sklearn.model_selection import train_test_split\n",
    "input_train, input_test= train_test_split(input_ready, test_size=1/3, random_state=42)\n",
    "input_train.reset_index(inplace=True)\n",
    "input_test.reset_index(inplace=True)\n",
    "x_train=input_train.iloc[:,0:75]\n",
    "y_train=input_train.iloc[:,75]\n",
    "x_test=input_test.iloc[:,0:75]\n",
    "y_test=input_test.iloc[:,75]\n",
    "print('no.  of train instances: ',len(x_train.index))\n",
    "print('no.  of test instances: ',len(x_test.index))"
   ]
  },
  {
   "cell_type": "code",
   "execution_count": 41,
   "id": "855e0999-b57a-48b1-b969-89a6a0038853",
   "metadata": {},
   "outputs": [],
   "source": [
    "from imblearn.under_sampling import RandomUnderSampler\n",
    "from imblearn.over_sampling import RandomOverSampler\n",
    "sm_strategy=1\n",
    "rus = RandomUnderSampler(random_state=42)# fit predictor and target variable\n",
    "ros = RandomOverSampler(random_state=42)\n",
    "comb_over=RandomOverSampler(random_state=42,sampling_strategy=sm_strategy)\n",
    "comb_under=RandomUnderSampler(random_state=42)\n",
    "x_rus, y_rus = rus.fit_resample(x_train, y_train)\n",
    "x_ros, y_ros = ros.fit_resample(x_train, y_train)\n",
    "x_comb, y_comb = comb_over.fit_resample(x_train, y_train)\n",
    "x_comb, y_comb = comb_under.fit_resample(x_comb, y_comb)"
   ]
  },
  {
   "cell_type": "code",
   "execution_count": 42,
   "id": "825a7ea1-c2a3-45e6-b2b1-810e77cd9c55",
   "metadata": {},
   "outputs": [
    {
     "data": {
      "text/plain": [
       "(array([6956.,    0.,    0.,    0.,    0.,    0.,    0.,    0.,    0.,\n",
       "        6956.]),\n",
       " array([0. , 0.1, 0.2, 0.3, 0.4, 0.5, 0.6, 0.7, 0.8, 0.9, 1. ]),\n",
       " <BarContainer object of 10 artists>)"
      ]
     },
     "execution_count": 42,
     "metadata": {},
     "output_type": "execute_result"
    },
    {
     "data": {
      "image/png": "[encoded data removed]",
      "text/plain": [
       "<Figure size 1080x360 with 4 Axes>"
      ]
     },
     "metadata": {
      "needs_background": "light"
     },
     "output_type": "display_data"
    }
   ],
   "source": [
    "plt.figure(figsize=(15,5))\n",
    "plt.subplot(1, 4, 1)\n",
    "plt.title('original_taining')\n",
    "plt.hist(y_train)\n",
    "plt.ylabel('Counts')\n",
    "plt.subplot(1, 4, 2)\n",
    "plt.title('under-sampling')\n",
    "plt.hist(y_rus)\n",
    "plt.subplot(1, 4, 3)\n",
    "plt.title('over-sampling')\n",
    "plt.hist(y_ros)\n",
    "plt.subplot(1, 4, 4)\n",
    "plt.title('combined')\n",
    "plt.hist(y_comb)"
   ]
  },
  {
   "cell_type": "code",
   "execution_count": 45,
   "id": "082be35f-069c-459b-b822-016269faa926",
   "metadata": {},
   "outputs": [
    {
     "name": "stdout",
     "output_type": "stream",
     "text": [
      "Train accuracy 0.9397810218978102\n",
      "Test accuracy 0.8990267639902676\n",
      "F1-scores for class 0 and 1 are:  [0.94228897 0.59669582]\n",
      "Confusion matrix:  [[3388   78]\n",
      " [ 337  307]]\n",
      "Train accuracy 0.9375\n",
      "Test accuracy 0.8491484184914841\n",
      "F1-scores for class 0 and 1 are:  [0.90455665 0.64037123]\n",
      "Confusion matrix:  [[2938  528]\n",
      " [  92  552]]\n",
      "Train accuracy 0.9210753306497987\n",
      "Test accuracy 0.872992700729927\n",
      "F1-scores for class 0 and 1 are:  [0.92145652 0.66836086]\n",
      "Confusion matrix:  [[3062  404]\n",
      " [ 118  526]]\n",
      "Train accuracy 0.9197096032202415\n",
      "Test accuracy 0.8737226277372263\n",
      "F1-scores for class 0 and 1 are:  [0.92182558 0.67172676]\n",
      "Confusion matrix:  [[3060  406]\n",
      " [ 113  531]]\n"
     ]
    },
    {
     "data": {
      "image/png": "[encoded data removed]",
      "text/plain": [
       "<Figure size 432x288 with 2 Axes>"
      ]
     },
     "metadata": {
      "needs_background": "light"
     },
     "output_type": "display_data"
    },
    {
     "data": {
      "image/png": "[encoded data removed]",
      "text/plain": [
       "<Figure size 432x288 with 2 Axes>"
      ]
     },
     "metadata": {
      "needs_background": "light"
     },
     "output_type": "display_data"
    },
    {
     "data": {
      "image/png": "[encoded data removed]",
      "text/plain": [
       "<Figure size 432x288 with 2 Axes>"
      ]
     },
     "metadata": {
      "needs_background": "light"
     },
     "output_type": "display_data"
    },
    {
     "data": {
      "image/png": "[encoded data removed]",
      "text/plain": [
       "<Figure size 432x288 with 2 Axes>"
      ]
     },
     "metadata": {
      "needs_background": "light"
     },
     "output_type": "display_data"
    }
   ],
   "source": [
    "defult_RandForest(x_train,y_train,x_test,y_test)\n",
    "defult_RandForest(x_rus, y_rus,x_test,y_test)\n",
    "defult_RandForest(x_ros, y_ros,x_test,y_test)\n",
    "defult_RandForest(x_comb, y_comb,x_test,y_test)"
   ]
  },
  {
   "cell_type": "code",
   "execution_count": null,
   "id": "b0f4a2fb-fa8b-40cf-81a3-cbd06234f03a",
   "metadata": {},
   "outputs": [],
   "source": []
  }
 ],
 "metadata": {
  "kernelspec": {
   "display_name": "Python 3",
   "language": "python",
   "name": "python3"
  },
  "language_info": {
   "codemirror_mode": {
    "name": "ipython",
    "version": 3
   },
   "file_extension": ".py",
   "mimetype": "text/x-python",
   "name": "python",
   "nbconvert_exporter": "python",
   "pygments_lexer": "ipython3",
   "version": "3.8.8"
  }
 },
 "nbformat": 4,
 "nbformat_minor": 5
}
