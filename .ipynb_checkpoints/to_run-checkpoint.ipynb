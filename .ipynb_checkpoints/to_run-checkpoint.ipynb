{
 "cells": [
  {
   "cell_type": "code",
   "execution_count": 1,
   "id": "409c25d9-e1c6-437d-9b2e-a3e9ae0eb170",
   "metadata": {},
   "outputs": [
    {
     "name": "stdout",
     "output_type": "stream",
     "text": [
      "{'prediction': 'Customer WILL buy the product'}\n",
      "{'prediction': 'Customer WILL NOT buy the product'}\n"
     ]
    }
   ],
   "source": [
    "#here the trained ML model cab be used to predict whether a customer buy the product\n",
    "# two exapmes are shown below\n",
    "#before runing this script the \"app.py\" or has to be run \n",
    "import requests\n",
    "import json\n",
    "\n",
    "pos_ex={'Administrative':3,'Administrative_Duration':87.83,'Informational':0,'Informational_Duration':0.0,'ProductRelated':27,'ProductRelated_Duration':798.33,'BounceRates':0.2,'ExitRates':0.12644,\n",
    "'PageValues':22.92,'SpecialDay':0.8,'Month':'Feb','OperatingSystems':2,'Browser':2,'Region':3,'TrafficType':1,'VisitorType':'Returning_Visitor','Weekend':0}\n",
    "\n",
    "neg_ex={'Administrative':0,'Administrative_Duration':0,'Informational':0,'Informational_Duration':0.0,'ProductRelated':1,'ProductRelated_Duration':0,'BounceRates':0.2,'ExitRates':0.2,\n",
    "'PageValues':0,'SpecialDay':0.0,'Month':'Feb','OperatingSystems':1,'Browser':1,'Region':1,'TrafficType':1,'VisitorType':'Returning_Visitor','Weekend':0}\n",
    "\n",
    "\n",
    "url = 'http://127.0.0.1:8030/predict'\n",
    "r = requests.post(url,json=pos_ex)\n",
    "print(r.json())\n",
    "r = requests.post(url,json=neg_ex)\n",
    "print(r.json())\n"
   ]
  },
  {
   "cell_type": "code",
   "execution_count": null,
   "id": "52eaa99f-c924-447d-9b21-d79d50e91bb6",
   "metadata": {},
   "outputs": [],
   "source": []
  }
 ],
 "metadata": {
  "kernelspec": {
   "display_name": "Python 3",
   "language": "python",
   "name": "python3"
  },
  "language_info": {
   "codemirror_mode": {
    "name": "ipython",
    "version": 3
   },
   "file_extension": ".py",
   "mimetype": "text/x-python",
   "name": "python",
   "nbconvert_exporter": "python",
   "pygments_lexer": "ipython3",
   "version": "3.8.8"
  }
 },
 "nbformat": 4,
 "nbformat_minor": 5
}
